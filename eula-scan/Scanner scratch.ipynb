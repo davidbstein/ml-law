{
 "cells": [
  {
   "cell_type": "code",
   "execution_count": 75,
   "metadata": {},
   "outputs": [],
   "source": [
    "import requests\n",
    "import bs4\n",
    "import difflib\n",
    "import time\n",
    "import sqlite3\n",
    "import json\n",
    "c = sqlite3.connect('TOS.sqlite')\n",
    "\n",
    "def __setup():\n",
    "    c.execute(\"\"\"drop table if exists company\"\"\")\n",
    "    c.execute(\"\"\"drop table if exists tos_text\"\"\")\n",
    "    c.execute(\"\"\"\n",
    "    CREATE TABLE IF NOT EXISTS company(\n",
    "        id INTEGER NOT NULL PRIMARY KEY AUTOINCREMENT,\n",
    "        url TEXT,\n",
    "        name TEXT,\n",
    "        last_scan INT,\n",
    "        last_error INT,\n",
    "        scan_instructions TEXT,\n",
    "        status TEXT\n",
    "    )\n",
    "    \"\"\")\n",
    "\n",
    "    c.execute(\"\"\"\n",
    "    CREATE TABLE IF NOT EXISTS tos_text(\n",
    "        id INTEGER NOT NULL PRIMARY KEY AUTOINCREMENT,\n",
    "        company_id INT,\n",
    "        start_date INT,\n",
    "        end_date INT,\n",
    "        text BLOB,\n",
    "        formatted_text BLOB,\n",
    "        delta BLOB,\n",
    "        formatted_delta BLOB\n",
    "    )\n",
    "    \"\"\")\n",
    "    c.execute(\"\"\"\n",
    "    CREATE INDEX IF NOT EXISTS tos_text_company_idx ON tos_text(company_id)\n",
    "    \"\"\")\n",
    "    c.commit()\n",
    "    id_ = create_company(\"STEIN TEST LOCAL\", \"http://0.0.0.0:8999/www\", {})\n",
    "    scan_company_tos(id_)\n",
    "\n",
    "def iterative_diff_function(a, b):\n",
    "    difflib._check_types(a, b, '','','','','\\n')\n",
    "    for tag, i1, i2, j1, j2 in difflib.SequenceMatcher(lambda x: x==' ',a,b).get_opcodes():\n",
    "        if tag == \"equal\":\n",
    "            yield (tag, a[i1:i2])\n",
    "        if tag == \"delete\":\n",
    "            yield (tag, a[i1:i2])\n",
    "        if tag == \"insert\":\n",
    "            yield (tag, b[j1:j2])\n",
    "        if tag == \"replace\":\n",
    "            yield (tag, a[i1:i2], b[j1:j2])\n",
    "\n",
    "            \n",
    "def diff_function(a, b):\n",
    "    return list(iterative_diff_function(a, b))\n",
    "\n",
    "\n",
    "_diff_function = diff_function\n",
    "\n",
    "\n",
    "def do_update_check(company_id):\n",
    "    old_tos = lookup_TOS(company_id)\n",
    "    url = lookup_URL(company_id)\n",
    "    new_tos = pull_TOS(url)\n",
    "    if old_tos:\n",
    "        text_diff = list(_diff_function(\n",
    "            old_tos['text'],\n",
    "            new_tos['text'],\n",
    "        ))\n",
    "        format_diff = list(_diff_function(\n",
    "            old_tos['formatted_text'],\n",
    "            new_tos['formatted_text'],\n",
    "        ))\n",
    "        if len(text_diff) == len(format_diff) == 1:\n",
    "            if (text_diff[0][0] == format_diff[0][0] == \"equal\"):\n",
    "                return None\n",
    "        return {\n",
    "            \"text\": new_tos[\"text\"],\n",
    "            \"formatted_text\": new_tos[\"formatted_text\"],\n",
    "            \"delta\": text_diff,\n",
    "            \"formatted_delta\": format_diff,\n",
    "            \"new\": False,\n",
    "        }\n",
    "    else:\n",
    "        return {\n",
    "            \"text\": new_tos[\"text\"],\n",
    "            \"formatted_text\": new_tos[\"formatted_text\"],\n",
    "            \"new\": True\n",
    "        }\n",
    "\n",
    "    \n",
    "def pull_TOS(url):\n",
    "    r = requests.get(url, timeout=10)\n",
    "    assert r.status_code == 200, 'error, code: ' + r.status_code\n",
    "    soup = bs4.BeautifulSoup(r.text)\n",
    "    return {\n",
    "        \"text\": soup.body.text,  #\"\\n\\n\".join(p.text for p in ps),\n",
    "        \"formatted_text\": str(soup.body),     #\"\\n\\n\".join(str(p) for p in ps),\n",
    "    }\n",
    "\n",
    "\n",
    "def scan_company_tos(company_id):\n",
    "    url = lookup_URL(company_id)\n",
    "    tos = pull_TOS(url)\n",
    "    lookup_TOS(company_id)\n",
    "    update_result = do_update_check(company_id)\n",
    "    if not update_result:\n",
    "        print(\"no change\")\n",
    "        pass # nullop\n",
    "    else:\n",
    "        add_TOS(\n",
    "            company_id, \n",
    "            update_result[\"text\"], \n",
    "            update_result[\"formatted_text\"], \n",
    "            update_result.get(\"delta\"),\n",
    "            update_result.get(\"formatted_delta\"),\n",
    "            int(time.time())\n",
    "       )\n",
    "    # TODO: log error and update status to show most recent error\n"
   ]
  },
  {
   "cell_type": "code",
   "execution_count": 76,
   "metadata": {},
   "outputs": [],
   "source": [
    "if False:\n",
    "    create_company(\"_local test\", \"http://0.0.0.0:8999/www/\", {})\n",
    "    print('\\n'.join(c.execute(\"select * from company limit 20;\")))"
   ]
  },
  {
   "cell_type": "code",
   "execution_count": 82,
   "metadata": {},
   "outputs": [],
   "source": [
    "##__setup()\n",
    "##scan_company_tos(1)"
   ]
  },
  {
   "cell_type": "code",
   "execution_count": 49,
   "metadata": {},
   "outputs": [],
   "source": [
    "def list_companies():\n",
    "    company_list = c.execute(\"select * from company\")\n",
    "    to_ret = []\n",
    "    for c in company_list:\n",
    "        to_ret.append({\n",
    "            \"id\": c[0],\n",
    "            \"url\": c[1],\n",
    "            \"name\": c[2],\n",
    "            \"last_scan\": c[3],\n",
    "            \"last_error\": c[4],\n",
    "            \"scan_instructions\": c[5],\n",
    "            \"status\": c[6],\n",
    "        })\n",
    "    return to_ret\n",
    "\n",
    "def update_company(company_id, url=None, name=None, scan_instructions=None):\n",
    "    if url:\n",
    "        c.execute(\"update company where id=? set url=?\", (company_id, url))\n",
    "    if name:\n",
    "        c.execute(\"update company where id=? set name=?\", (company_id, name))\n",
    "    if scan_instructions:\n",
    "        c.execute(\n",
    "            \"update company where id=? set scan_instructions=?\", \n",
    "            (company_id, json.dumps(scan_instructions))\n",
    "        )\n",
    "    c.commit()\n",
    "    return c.execute(\"select * from company where id=?\", (company_id, )).fetchone()\n",
    "\n",
    "def get_diff(company_id, start_time, end_time):\n",
    "    pass"
   ]
  },
  {
   "cell_type": "markdown",
   "metadata": {},
   "source": [
    "# Pages\n",
    "\n",
    "## Overview\n",
    "\n",
    "- String Filter\n",
    "- Time Filter\n",
    "\n",
    "- Table of companies\n",
    "    + Name\n",
    "    + url\n",
    "    + Last update\n",
    "    + number of changes by year\n",
    "    + edit button\n",
    "\n",
    "\n",
    "## Main Changes View\n",
    "\n",
    "- String Filter\n",
    "- Start time scrubber\n",
    "- End time scrubber\n",
    "\n",
    "- List of changes by company\n",
    "    - left / right, just changes and surroundings\n",
    "\n",
    "\n",
    "## Company page\n",
    "\n",
    "- select left pane\n",
    "- select right pane\n",
    "- go to company setting page\n",
    "\n",
    "\n",
    "## Company settings\n",
    "\n",
    "- change URL\n",
    "- change monitored portion\n",
    "\n",
    "\n",
    "## Add Company page\n",
    "\n",
    "- name\n",
    "- url\n",
    "- test page\n"
   ]
  },
  {
   "cell_type": "markdown",
   "metadata": {},
   "source": [
    "```\n",
    "from flask import Flask\n",
    "app = Flask(__name__, static_folder, templates_folder)\n",
    "\n",
    "def path(*_,**__):\n",
    "    def inner(fn):\n",
    "        return fn\n",
    "    return inner\n",
    "\n",
    "\n",
    "#####################################\n",
    "## Browsing and exploring the data ##\n",
    "#####################################\n",
    "\n",
    "@path(\"/\")\n",
    "def overview():\n",
    "    \"\"\" list all companies \"\"\"\n",
    "    pass\n",
    "\n",
    "# date range: start_date < target, end_date > target OR NOT end_date\n",
    "\n",
    "@path(\"/changes\")\n",
    "def change_browser():\n",
    "    \"\"\" list all companies and the isolated deltas for a selected range \"\"\"\n",
    "    pass\n",
    "\n",
    "@path(\"/changes/all/{fromdate}/{todate}\")\n",
    "def delta_list(fromdate, todate):\n",
    "    \"\"\" return the deltas of all companies in a date range \"\"\"\n",
    "    pass\n",
    "\n",
    "@path(\"/changes/{id}/{fromdate}/{todate}\")\n",
    "def delta_list(id, fromdate, todate):\n",
    "    \"\"\" return the deltas of a selected in a date range \"\"\"\n",
    "    pass\n",
    "\n",
    "@path(\"/company/{id}\")\n",
    "def company_view(id):\n",
    "    \"\"\" show company, all available updates, and a delta viewer.\"\"\"\n",
    "    pass\n",
    "\n",
    "##############################################################\n",
    "## Consider merging these and checkign the method in the fn ##\n",
    "##############################################################\n",
    "\n",
    "@path(\"/company/{id}/edit\", method=\"POST\")\n",
    "def update_company(id):\n",
    "    \"\"\" update a company's settings \"\"\"\n",
    "    pass\n",
    "\n",
    "@path(\"/company/{id}/edit\")\n",
    "def update_company_view(id):\n",
    "    \"\"\" the form that goes withthe update_company\"\"\"\n",
    "    pass\n",
    "\n",
    "@path(\"/company/new\", method=\"POST\")\n",
    "def create_company(id):\n",
    "    \"\"\" create a new company \"\"\"\n",
    "    pass\n",
    "\n",
    "@path(\"/company/new\")\n",
    "def create_company_view(id):\n",
    "    \"\"\" the form that goes with the new company\"\"\"\n",
    "    pass\n",
    "```"
   ]
  },
  {
   "cell_type": "code",
   "execution_count": 86,
   "metadata": {},
   "outputs": [],
   "source": [
    "from sqlalchemy import create_engine"
   ]
  },
  {
   "cell_type": "code",
   "execution_count": 101,
   "metadata": {},
   "outputs": [],
   "source": [
    "eng = create_engine(\"sqlite:////Users/stein/repos/ml-law/eula-scan/TOS.sqlite\")\n"
   ]
  },
  {
   "cell_type": "code",
   "execution_count": 97,
   "metadata": {},
   "outputs": [
    {
     "data": {
      "text/plain": [
       "[]"
      ]
     },
     "execution_count": 97,
     "metadata": {},
     "output_type": "execute_result"
    }
   ],
   "source": [
    "eng.execute(\"select * from company where id=?\", (2,)).fetchall()"
   ]
  },
  {
   "cell_type": "code",
   "execution_count": 99,
   "metadata": {},
   "outputs": [],
   "source": [
    "c = eng.connect()"
   ]
  },
  {
   "cell_type": "code",
   "execution_count": 100,
   "metadata": {},
   "outputs": [
    {
     "ename": "AttributeError",
     "evalue": "'Connection' object has no attribute 'commit'",
     "output_type": "error",
     "traceback": [
      "\u001b[0;31m---------------------------------------------------------------------------\u001b[0m",
      "\u001b[0;31mAttributeError\u001b[0m                            Traceback (most recent call last)",
      "\u001b[0;32m<ipython-input-100-f55262c440a2>\u001b[0m in \u001b[0;36m<module>\u001b[0;34m\u001b[0m\n\u001b[0;32m----> 1\u001b[0;31m \u001b[0mc\u001b[0m\u001b[0;34m.\u001b[0m\u001b[0mcommit\u001b[0m\u001b[0;34m(\u001b[0m\u001b[0;34m)\u001b[0m\u001b[0;34m\u001b[0m\u001b[0;34m\u001b[0m\u001b[0m\n\u001b[0m",
      "\u001b[0;31mAttributeError\u001b[0m: 'Connection' object has no attribute 'commit'"
     ]
    }
   ],
   "source": [
    "c.commit()"
   ]
  },
  {
   "cell_type": "code",
   "execution_count": 103,
   "metadata": {},
   "outputs": [],
   "source": [
    "eng.dispose()"
   ]
  },
  {
   "cell_type": "code",
   "execution_count": 104,
   "metadata": {},
   "outputs": [
    {
     "data": {
      "text/plain": [
       "Engine(sqlite:////Users/stein/repos/ml-law/eula-scan/TOS.sqlite)"
      ]
     },
     "execution_count": 104,
     "metadata": {},
     "output_type": "execute_result"
    }
   ],
   "source": [
    "eng"
   ]
  },
  {
   "cell_type": "code",
   "execution_count": 106,
   "metadata": {},
   "outputs": [
    {
     "data": {
      "text/plain": [
       "<sqlalchemy.engine.result.ResultProxy at 0x115171160>"
      ]
     },
     "execution_count": 106,
     "metadata": {},
     "output_type": "execute_result"
    }
   ],
   "source": [
    "eng.execute(\"\")"
   ]
  },
  {
   "cell_type": "code",
   "execution_count": 1,
   "metadata": {},
   "outputs": [],
   "source": [
    "import difflib"
   ]
  },
  {
   "cell_type": "code",
   "execution_count": 7,
   "metadata": {},
   "outputs": [],
   "source": [
    "a = difflib.HtmlDiff().make_table(\"test\\none\", \"test\\none\")"
   ]
  },
  {
   "cell_type": "code",
   "execution_count": 8,
   "metadata": {},
   "outputs": [
    {
     "data": {
      "text/plain": [
       "'\\n    <table class=\"diff\" id=\"difflib_chg_to0__top\"\\n           cellspacing=\"0\" cellpadding=\"0\" rules=\"groups\" >\\n        <colgroup></colgroup> <colgroup></colgroup> <colgroup></colgroup>\\n        <colgroup></colgroup> <colgroup></colgroup> <colgroup></colgroup>\\n        \\n        <tbody>\\n            <tr><td class=\"diff_next\"><a href=\"#difflib_chg_to0__top\">t</a></td><td class=\"diff_header\" id=\"from0_1\">1</td><td nowrap=\"nowrap\">t</td><td class=\"diff_next\"><a href=\"#difflib_chg_to0__top\">t</a></td><td class=\"diff_header\" id=\"to0_1\">1</td><td nowrap=\"nowrap\">t</td></tr>\\n            <tr><td class=\"diff_next\"></td><td class=\"diff_header\" id=\"from0_2\">2</td><td nowrap=\"nowrap\">e</td><td class=\"diff_next\"></td><td class=\"diff_header\" id=\"to0_2\">2</td><td nowrap=\"nowrap\">e</td></tr>\\n            <tr><td class=\"diff_next\"></td><td class=\"diff_header\" id=\"from0_3\">3</td><td nowrap=\"nowrap\">s</td><td class=\"diff_next\"></td><td class=\"diff_header\" id=\"to0_3\">3</td><td nowrap=\"nowrap\">s</td></tr>\\n            <tr><td class=\"diff_next\"></td><td class=\"diff_header\" id=\"from0_4\">4</td><td nowrap=\"nowrap\">t</td><td class=\"diff_next\"></td><td class=\"diff_header\" id=\"to0_4\">4</td><td nowrap=\"nowrap\">t</td></tr>\\n            <tr><td class=\"diff_next\"></td><td class=\"diff_header\" id=\"from0_5\">5</td><td nowrap=\"nowrap\"></td><td class=\"diff_next\"></td><td class=\"diff_header\" id=\"to0_5\">5</td><td nowrap=\"nowrap\"></td></tr>\\n            <tr><td class=\"diff_next\"></td><td class=\"diff_header\" id=\"from0_6\">6</td><td nowrap=\"nowrap\">o</td><td class=\"diff_next\"></td><td class=\"diff_header\" id=\"to0_6\">6</td><td nowrap=\"nowrap\">o</td></tr>\\n            <tr><td class=\"diff_next\"></td><td class=\"diff_header\" id=\"from0_7\">7</td><td nowrap=\"nowrap\">n</td><td class=\"diff_next\"></td><td class=\"diff_header\" id=\"to0_7\">7</td><td nowrap=\"nowrap\">n</td></tr>\\n            <tr><td class=\"diff_next\"></td><td class=\"diff_header\" id=\"from0_8\">8</td><td nowrap=\"nowrap\">e</td><td class=\"diff_next\"></td><td class=\"diff_header\" id=\"to0_8\">8</td><td nowrap=\"nowrap\">e</td></tr>\\n        </tbody>\\n    </table>'"
      ]
     },
     "execution_count": 8,
     "metadata": {},
     "output_type": "execute_result"
    }
   ],
   "source": [
    "a"
   ]
  },
  {
   "cell_type": "code",
   "execution_count": null,
   "metadata": {},
   "outputs": [],
   "source": []
  }
 ],
 "metadata": {
  "kernelspec": {
   "display_name": "Python 3",
   "language": "python",
   "name": "python3"
  },
  "language_info": {
   "codemirror_mode": {
    "name": "ipython",
    "version": 3
   },
   "file_extension": ".py",
   "mimetype": "text/x-python",
   "name": "python",
   "nbconvert_exporter": "python",
   "pygments_lexer": "ipython3",
   "version": "3.7.3"
  }
 },
 "nbformat": 4,
 "nbformat_minor": 2
}
