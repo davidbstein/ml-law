{
 "cells": [
  {
   "cell_type": "code",
   "execution_count": 1,
   "metadata": {
    "scrolled": true
   },
   "outputs": [
    {
     "name": "stdout",
     "output_type": "stream",
     "text": [
      "/home/ubuntu/ml-law/eula-scan/app\n"
     ]
    }
   ],
   "source": [
    "cd app"
   ]
  },
  {
   "cell_type": "code",
   "execution_count": 2,
   "metadata": {},
   "outputs": [],
   "source": [
    "import model\n",
    "import helpers\n",
    "import ipywidgets as widgets\n",
    "from IPython.display import display\n",
    "from sqlalchemy.sql.expression import func\n",
    "from sqlalchemy import select\n",
    "from datetime import datetime\n",
    "import json\n",
    "\n",
    "C_TABLE = model._COMPANY\n",
    "T_TABLE = model._TOS\n"
   ]
  },
  {
   "cell_type": "markdown",
   "metadata": {},
   "source": [
    "# set start and end time"
   ]
  },
  {
   "cell_type": "code",
   "execution_count": 3,
   "metadata": {},
   "outputs": [],
   "source": [
    "if False:\n",
    "    progress = widgets.IntProgress(min=0, max=36356)\n",
    "    display(progress)\n",
    "\n",
    "    for company in model._ex(C_TABLE.select().order_by(C_TABLE.c.id)):\n",
    "        progress.value = company.id\n",
    "        whereclause = C_TOS.c.company_id == company.id\n",
    "        max_time = model._ex(select(columns=[func.max(C_TOS.c.start_date)], whereclause=whereclause)).fetchone().max_1\n",
    "        min_time = model._ex(select(columns=[func.min(C_TOS.c.start_date)], whereclause=whereclause)).fetchone().min_1\n",
    "        update_vals = {}\n",
    "        if company.first_scan and min_time:\n",
    "            first = min(company.first_scan, min_time)\n",
    "        else:\n",
    "            first = company.first_scan or min_time\n",
    "        if first:\n",
    "            update_vals['first_scan'] = first\n",
    "        if company.last_scan and max_time:\n",
    "            last = max(company.last_scan, max_time)\n",
    "        else:\n",
    "            last = company.last_scan or max_time\n",
    "        if last:\n",
    "            update_vals['last_scan'] = last\n",
    "        if first or last:\n",
    "            model._ex(C_TABLE.update().values(**update_vals).where(C_TABLE.c.id==company.id))\n"
   ]
  },
  {
   "cell_type": "markdown",
   "metadata": {},
   "source": [
    "# add company rank"
   ]
  },
  {
   "cell_type": "code",
   "execution_count": 4,
   "metadata": {},
   "outputs": [],
   "source": [
    "import csv\n",
    "from urllib.parse import urlparse"
   ]
  },
  {
   "cell_type": "code",
   "execution_count": 5,
   "metadata": {},
   "outputs": [],
   "source": [
    "rank_csv = csv.reader(open(\"/home/ubuntu/top-1m.csv\"))\n",
    "\n",
    "ranks = {r[1]:int(r[0]) for r in rank_csv}"
   ]
  },
  {
   "cell_type": "code",
   "execution_count": 9,
   "metadata": {},
   "outputs": [
    {
     "ename": "KeyError",
     "evalue": "'books.google.com'",
     "output_type": "error",
     "traceback": [
      "\u001b[0;31m---------------------------------------------------------------------------\u001b[0m",
      "\u001b[0;31mKeyError\u001b[0m                                  Traceback (most recent call last)",
      "\u001b[0;32m<ipython-input-9-08dd9c299238>\u001b[0m in \u001b[0;36m<module>\u001b[0;34m\u001b[0m\n\u001b[0;32m----> 1\u001b[0;31m \u001b[0mranks\u001b[0m\u001b[0;34m[\u001b[0m\u001b[0;34m'books.google.com'\u001b[0m\u001b[0;34m]\u001b[0m\u001b[0;34m\u001b[0m\u001b[0;34m\u001b[0m\u001b[0m\n\u001b[0m",
      "\u001b[0;31mKeyError\u001b[0m: 'books.google.com'"
     ]
    }
   ],
   "source": [
    "ranks['books.google.com']"
   ]
  },
  {
   "cell_type": "code",
   "execution_count": 10,
   "metadata": {},
   "outputs": [],
   "source": [
    "if False:\n",
    "    progress = widgets.IntProgress(min=0, max=36356)\n",
    "    display(progress)\n",
    "    for company in model._ex(C_TABLE.select().order_by(C_TABLE.c.id)):\n",
    "        progress.value = company.id\n",
    "        if not urlparse(company.url).hostname:\n",
    "            continue\n",
    "        host = '.'.join(urlparse(company.url).hostname.split(\".\")[-2:])\n",
    "        if ranks.get(host):\n",
    "            model._ex(C_TABLE.update().values(alexa_rank=ranks[host]).where(C_TABLE.c.id==company.id))"
   ]
  },
  {
   "cell_type": "code",
   "execution_count": 11,
   "metadata": {},
   "outputs": [
    {
     "data": {
      "text/plain": [
       "[None,\n",
       " None,\n",
       " None,\n",
       " None,\n",
       " None,\n",
       " None,\n",
       " None,\n",
       " None,\n",
       " None,\n",
       " None,\n",
       " None,\n",
       " None,\n",
       " None,\n",
       " None,\n",
       " None,\n",
       " None,\n",
       " None,\n",
       " None,\n",
       " None,\n",
       " None,\n",
       " None,\n",
       " None,\n",
       " None,\n",
       " None,\n",
       " None]"
      ]
     },
     "execution_count": 11,
     "metadata": {},
     "output_type": "execute_result"
    }
   ],
   "source": [
    "[None] * 25"
   ]
  },
  {
   "cell_type": "code",
   "execution_count": null,
   "metadata": {},
   "outputs": [],
   "source": []
  }
 ],
 "metadata": {
  "kernelspec": {
   "display_name": "Python 3",
   "language": "python",
   "name": "python3"
  },
  "language_info": {
   "codemirror_mode": {
    "name": "ipython",
    "version": 3
   },
   "file_extension": ".py",
   "mimetype": "text/x-python",
   "name": "python",
   "nbconvert_exporter": "python",
   "pygments_lexer": "ipython3",
   "version": "3.6.9"
  }
 },
 "nbformat": 4,
 "nbformat_minor": 2
}
