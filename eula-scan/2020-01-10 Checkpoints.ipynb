{
 "cells": [
  {
   "cell_type": "code",
   "execution_count": 3,
   "metadata": {},
   "outputs": [
    {
     "name": "stdout",
     "output_type": "stream",
     "text": [
      "/home/ubuntu/ml-law/eula-scan/app\n"
     ]
    }
   ],
   "source": [
    "cd app"
   ]
  },
  {
   "cell_type": "code",
   "execution_count": 4,
   "metadata": {},
   "outputs": [],
   "source": [
    "import archive_downloader, model, helpers"
   ]
  },
  {
   "cell_type": "code",
   "execution_count": 5,
   "metadata": {},
   "outputs": [],
   "source": [
    "co = (model.lookup_company(161)['company'])"
   ]
  },
  {
   "cell_type": "code",
   "execution_count": 11,
   "metadata": {},
   "outputs": [
    {
     "name": "stderr",
     "output_type": "stream",
     "text": [
      "\u001b[36m[MainThread]\u001b[0m 2020-01-11 18:58:36,307 - WARNING - 161 - 0/20\n",
      "\u001b[36m[MainThread]\u001b[0m 2020-01-11 18:58:46,778 - WARNING - 161 - 10/20\n"
     ]
    }
   ],
   "source": [
    "archive_downloader.scan_company(161)"
   ]
  },
  {
   "cell_type": "code",
   "execution_count": 34,
   "metadata": {},
   "outputs": [],
   "source": [
    "rows = model._ex(model._COMPANY.select().where(model._COMPANY.c.name.like(\"Polisis%\"))).fetchall()"
   ]
  },
  {
   "cell_type": "code",
   "execution_count": 40,
   "metadata": {},
   "outputs": [
    {
     "name": "stdout",
     "output_type": "stream",
     "text": [
      "0/28265\n",
      "1000/28265\n",
      "2000/28265\n",
      "3000/28265\n",
      "4000/28265\n",
      "5000/28265\n",
      "6000/28265\n",
      "7000/28265\n",
      "8000/28265\n",
      "9000/28265\n",
      "10000/28265\n",
      "11000/28265\n",
      "12000/28265\n",
      "13000/28265\n",
      "14000/28265\n",
      "15000/28265\n",
      "16000/28265\n",
      "17000/28265\n",
      "18000/28265\n",
      "19000/28265\n",
      "20000/28265\n",
      "21000/28265\n",
      "22000/28265\n",
      "23000/28265\n",
      "24000/28265\n",
      "25000/28265\n",
      "26000/28265\n",
      "27000/28265\n",
      "28000/28265\n"
     ]
    }
   ],
   "source": [
    "for i, row in enumerate(rows):\n",
    "    if not i%1000:\n",
    "        print(\"{}/{}\".format(i, len(rows)))\n",
    "    model._ex(model._COMPANY.update().where(model._COMPANY.c.id==row.id).values(name=row.name[len(\"Polsis Dataset - \"):]))"
   ]
  },
  {
   "cell_type": "code",
   "execution_count": 38,
   "metadata": {},
   "outputs": [
    {
     "data": {
      "text/plain": [
       "[(0, 'a'), (1, 'b'), (2, 'c')]"
      ]
     },
     "execution_count": 38,
     "metadata": {},
     "output_type": "execute_result"
    }
   ],
   "source": [
    "list(enumerate('abc'))"
   ]
  },
  {
   "cell_type": "code",
   "execution_count": null,
   "metadata": {},
   "outputs": [],
   "source": []
  }
 ],
 "metadata": {
  "kernelspec": {
   "display_name": "Python 3",
   "language": "python",
   "name": "python3"
  },
  "language_info": {
   "codemirror_mode": {
    "name": "ipython",
    "version": 3
   },
   "file_extension": ".py",
   "mimetype": "text/x-python",
   "name": "python",
   "nbconvert_exporter": "python",
   "pygments_lexer": "ipython3",
   "version": "3.6.9"
  }
 },
 "nbformat": 4,
 "nbformat_minor": 4
}
